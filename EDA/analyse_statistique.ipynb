{
 "cells": [
  {
   "cell_type": "code",
   "execution_count": 1,
   "metadata": {},
   "outputs": [],
   "source": [
    "import pandas as pd"
   ]
  },
  {
   "cell_type": "code",
   "execution_count": 3,
   "metadata": {},
   "outputs": [],
   "source": [
    "# Load the data\n",
    "file_path = '../data/clean_data.csv'\n",
    "clean_data = pd.read_csv(file_path)"
   ]
  },
  {
   "cell_type": "markdown",
   "metadata": {},
   "source": [
    "# 1. Summary statistics for continuous variables"
   ]
  },
  {
   "cell_type": "code",
   "execution_count": 6,
   "metadata": {},
   "outputs": [],
   "source": [
    "continuous_vars = clean_data.select_dtypes(include=['float64', 'int64']).columns\n",
    "continuous_stats = clean_data[continuous_vars].describe().T\n",
    "continuous_stats['median'] = clean_data[continuous_vars].median()\n",
    "continuous_stats['iqr'] = clean_data[continuous_vars].quantile(0.75) - clean_data[continuous_vars].quantile(0.25)"
   ]
  },
  {
   "cell_type": "code",
   "execution_count": 7,
   "metadata": {},
   "outputs": [
    {
     "name": "stdout",
     "output_type": "stream",
     "text": [
      "Descriptive Statistics for Continuous Variables:\n",
      "                         count   mean    std   min   25%   50%   75%   max  median   iqr\n",
      "BMI                   110387.0  28.76   5.86  18.0  25.0  28.0  32.0  50.0    28.0   7.0\n",
      "PhysHlth              110387.0   5.16   9.59   0.0   0.0   0.0   5.0  30.0     0.0   5.0\n",
      "Age                   110387.0  58.36  15.91  21.0  47.0  62.0  72.0  85.0    62.0  25.0\n",
      "HighBP                110387.0   0.48   0.50   0.0   0.0   0.0   1.0   1.0     0.0   1.0\n",
      "HighChol              110387.0   0.45   0.50   0.0   0.0   0.0   1.0   1.0     0.0   1.0\n",
      "CholCheck             110387.0   0.96   0.19   0.0   1.0   1.0   1.0   1.0     1.0   0.0\n",
      "Smoker                110387.0   0.52   0.50   0.0   0.0   1.0   1.0   1.0     1.0   1.0\n",
      "Stroke                110387.0   0.05   0.22   0.0   0.0   0.0   0.0   1.0     0.0   0.0\n",
      "HeartDiseaseorAttack  110387.0   0.11   0.32   0.0   0.0   0.0   0.0   1.0     0.0   0.0\n",
      "PhysActivity          110387.0   0.69   0.46   0.0   0.0   1.0   1.0   1.0     1.0   1.0\n",
      "Fruits                110387.0   0.59   0.49   0.0   0.0   1.0   1.0   1.0     1.0   1.0\n",
      "Veggies               110387.0   0.77   0.42   0.0   1.0   1.0   1.0   1.0     1.0   0.0\n",
      "HvyAlcoholConsump     110387.0   0.05   0.22   0.0   0.0   0.0   0.0   1.0     0.0   0.0\n",
      "AnyHealthcare         110387.0   0.93   0.25   0.0   1.0   1.0   1.0   1.0     1.0   0.0\n",
      "NoDocbcCost           110387.0   0.11   0.31   0.0   0.0   0.0   0.0   1.0     0.0   0.0\n",
      "GenHlth               110387.0   2.72   1.09   1.0   2.0   3.0   3.0   5.0     3.0   1.0\n",
      "MentHlth              110387.0   3.75   8.14   0.0   0.0   0.0   2.0  30.0     0.0   2.0\n",
      "DiffWalk              110387.0   0.22   0.41   0.0   0.0   0.0   0.0   1.0     0.0   0.0\n",
      "Sex                   110387.0   0.43   0.49   0.0   0.0   0.0   1.0   1.0     0.0   1.0\n",
      "Education             110387.0   3.35   0.73   0.0   3.0   3.0   4.0   4.0     3.0   1.0\n",
      "Income                110387.0   5.39   2.14   1.0   4.0   6.0   7.0   8.0     6.0   3.0\n",
      "Diabetes_binary       110387.0   0.17   0.38   0.0   0.0   0.0   0.0   1.0     0.0   0.0\n"
     ]
    }
   ],
   "source": [
    "# Round the results to 2 decimal places for better readability\n",
    "continuous_stats = continuous_stats.round(2)\n",
    "print(\"Descriptive Statistics for Continuous Variables:\")\n",
    "print(continuous_stats.to_string())"
   ]
  },
  {
   "cell_type": "markdown",
   "metadata": {},
   "source": [
    "# 2. Frequency counts for categorical variables"
   ]
  },
  {
   "cell_type": "code",
   "execution_count": 8,
   "metadata": {},
   "outputs": [],
   "source": [
    "# Assuming categorical variables are of integer type with limited distinct values (0 and 1 for binary categories)\n",
    "categorical_vars = ['HighBP', 'HighChol', 'Smoker', 'Stroke', 'HeartDiseaseorAttack', 'PhysActivity',\n",
    "                    'Fruits', 'Veggies', 'HvyAlcoholConsump', 'AnyHealthcare', 'NoDocbcCost', \n",
    "                    'DiffWalk', 'Sex', 'Education', 'Income', 'Diabetes_binary']"
   ]
  },
  {
   "cell_type": "code",
   "execution_count": 9,
   "metadata": {},
   "outputs": [
    {
     "name": "stdout",
     "output_type": "stream",
     "text": [
      "\n",
      "Frequency Counts for Categorical Variables:\n",
      "\n",
      "HighBP:\n",
      "HighBP\n",
      "0    57235\n",
      "1    53152\n",
      "\n",
      "HighChol:\n",
      "HighChol\n",
      "0    60789\n",
      "1    49598\n",
      "\n",
      "Smoker:\n",
      "Smoker\n",
      "1    57092\n",
      "0    53295\n",
      "\n",
      "Stroke:\n",
      "Stroke\n",
      "0    104794\n",
      "1      5593\n",
      "\n",
      "HeartDiseaseorAttack:\n",
      "HeartDiseaseorAttack\n",
      "0    97765\n",
      "1    12622\n",
      "\n",
      "PhysActivity:\n",
      "PhysActivity\n",
      "1    76606\n",
      "0    33781\n",
      "\n",
      "Fruits:\n",
      "Fruits\n",
      "1    65308\n",
      "0    45079\n",
      "\n",
      "Veggies:\n",
      "Veggies\n",
      "1    84904\n",
      "0    25483\n",
      "\n",
      "HvyAlcoholConsump:\n",
      "HvyAlcoholConsump\n",
      "0    104557\n",
      "1      5830\n",
      "\n",
      "AnyHealthcare:\n",
      "AnyHealthcare\n",
      "1    103044\n",
      "0      7343\n",
      "\n",
      "NoDocbcCost:\n",
      "NoDocbcCost\n",
      "0    98767\n",
      "1    11620\n",
      "\n",
      "DiffWalk:\n",
      "DiffWalk\n",
      "0    86559\n",
      "1    23828\n",
      "\n",
      "Sex:\n",
      "Sex\n",
      "0    63260\n",
      "1    47127\n",
      "\n",
      "Education:\n",
      "Education\n",
      "4    52728\n",
      "3    47392\n",
      "2     7118\n",
      "1     3019\n",
      "0      130\n",
      "\n",
      "Income:\n",
      "Income\n",
      "8    23227\n",
      "6    18387\n",
      "7    17752\n",
      "5    14645\n",
      "4    12304\n",
      "3    10213\n",
      "2     7558\n",
      "1     6301\n",
      "\n",
      "Diabetes_binary:\n",
      "Diabetes_binary\n",
      "0    91666\n",
      "1    18721\n"
     ]
    }
   ],
   "source": [
    "print(\"\\nFrequency Counts for Categorical Variables:\")\n",
    "for col in categorical_vars:\n",
    "    counts = clean_data[col].value_counts()\n",
    "    print(f\"\\n{col}:\")\n",
    "    print(counts.to_string())"
   ]
  }
 ],
 "metadata": {
  "kernelspec": {
   "display_name": "Python 3",
   "language": "python",
   "name": "python3"
  },
  "language_info": {
   "codemirror_mode": {
    "name": "ipython",
    "version": 3
   },
   "file_extension": ".py",
   "mimetype": "text/x-python",
   "name": "python",
   "nbconvert_exporter": "python",
   "pygments_lexer": "ipython3",
   "version": "3.12.7"
  }
 },
 "nbformat": 4,
 "nbformat_minor": 2
}
