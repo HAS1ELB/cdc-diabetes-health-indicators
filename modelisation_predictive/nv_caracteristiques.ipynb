{
 "cells": [
  {
   "cell_type": "code",
   "execution_count": 1,
   "metadata": {},
   "outputs": [],
   "source": [
    "import pandas as pd\n",
    "import numpy as np\n",
    "from sklearn.preprocessing import StandardScaler"
   ]
  },
  {
   "cell_type": "code",
   "execution_count": 2,
   "metadata": {},
   "outputs": [],
   "source": [
    "# Load the data\n",
    "file_path = '../data/clean_data.csv'\n",
    "clean_data = pd.read_csv(file_path)"
   ]
  },
  {
   "cell_type": "markdown",
   "metadata": {},
   "source": [
    "# 1. Polynomial and Interaction Features"
   ]
  },
  {
   "cell_type": "code",
   "execution_count": null,
   "metadata": {},
   "outputs": [],
   "source": [
    "'''Interaction Terms: The interaction between BMI and Age, and between PhysHlth and BMI, may capture combined health impacts.'''\n",
    "clean_data['BMI_Age'] = clean_data['BMI'] * clean_data['Age']  # Interaction term\n",
    "clean_data['PhysHlth_BMI'] = clean_data['PhysHlth'] * clean_data['BMI']"
   ]
  },
  {
   "cell_type": "markdown",
   "metadata": {},
   "source": [
    "# 2. Binning for Age and BMI"
   ]
  },
  {
   "cell_type": "code",
   "execution_count": null,
   "metadata": {},
   "outputs": [],
   "source": [
    "'''Binned Variables: Age and BMI are categorized into groups, capturing non-linear relationships.'''\n",
    "clean_data['Age_bin'] = pd.cut(clean_data['Age'], bins=[0, 30, 45, 60, 100], labels=['Young', 'Adult', 'MiddleAge', 'Senior'])\n",
    "clean_data['BMI_bin'] = pd.cut(clean_data['BMI'], bins=[0, 18.5, 24.9, 29.9, 100], labels=['Underweight', 'Normal', 'Overweight', 'Obese'])"
   ]
  },
  {
   "cell_type": "markdown",
   "metadata": {},
   "source": [
    "# 3. Aggregated Health Scores"
   ]
  },
  {
   "cell_type": "code",
   "execution_count": 9,
   "metadata": {},
   "outputs": [
    {
     "data": {
      "text/plain": [
       "'Lifestyle and Risk Scores: These aggregate scores \\nsimplify complex health information \\nand may correlate with outcomes like diabetes.'"
      ]
     },
     "execution_count": 9,
     "metadata": {},
     "output_type": "execute_result"
    }
   ],
   "source": [
    "'''Lifestyle and Risk Scores: These aggregate scores \n",
    "simplify complex health information \n",
    "and may correlate with outcomes like diabetes.'''"
   ]
  },
  {
   "cell_type": "code",
   "execution_count": 5,
   "metadata": {},
   "outputs": [],
   "source": [
    "# Healthy lifestyle score: Sum of healthy behaviors (Fruits, Veggies, No smoking, No heavy drinking)\n",
    "clean_data['HealthyLifestyleScore'] = clean_data[['Fruits', 'Veggies', 'PhysActivity']].sum(axis=1) - clean_data[['Smoker', 'HvyAlcoholConsump']].sum(axis=1)"
   ]
  },
  {
   "cell_type": "code",
   "execution_count": 6,
   "metadata": {},
   "outputs": [],
   "source": [
    "# Health risk score based on chronic conditions\n",
    "clean_data['HealthRiskScore'] = clean_data[['HighBP', 'HighChol', 'Stroke', 'HeartDiseaseorAttack', 'DiffWalk']].sum(axis=1)"
   ]
  },
  {
   "cell_type": "markdown",
   "metadata": {},
   "source": [
    "# 4. Scaling Continuous Variables"
   ]
  },
  {
   "cell_type": "code",
   "execution_count": 7,
   "metadata": {},
   "outputs": [],
   "source": [
    "scaler = StandardScaler()\n",
    "clean_data[['BMI_scaled', 'Age_scaled', 'PhysHlth_scaled', 'MentHlth_scaled']] = scaler.fit_transform(clean_data[['BMI', 'Age', 'PhysHlth', 'MentHlth']])"
   ]
  },
  {
   "cell_type": "markdown",
   "metadata": {},
   "source": [
    "# Display the updated DataFrame with new features , and Save the modified dataset with new features"
   ]
  },
  {
   "cell_type": "code",
   "execution_count": 8,
   "metadata": {},
   "outputs": [
    {
     "name": "stdout",
     "output_type": "stream",
     "text": [
      "Data with New Features:\n",
      "     BMI  PhysHlth  Age  HighBP  HighChol  CholCheck  Smoker  Stroke  \\\n",
      "0  32.0       0.0   85       1         1          1       0       0   \n",
      "1  24.0       0.0   85       1         0          1       0       0   \n",
      "2  20.0       0.0   57       0         1          1       1       0   \n",
      "3  35.0       0.0   72       1         1          1       1       0   \n",
      "4  29.0       2.0   62       1         1          1       1       0   \n",
      "\n",
      "   HeartDiseaseorAttack  PhysActivity  ...  BMI_Age  PhysHlth_BMI    Age_bin  \\\n",
      "0                     0             0  ...   2720.0           0.0     Senior   \n",
      "1                     0             0  ...   2040.0           0.0     Senior   \n",
      "2                     0             0  ...   1140.0           0.0  MiddleAge   \n",
      "3                     0             0  ...   2520.0           0.0     Senior   \n",
      "4                     0             1  ...   1798.0          58.0     Senior   \n",
      "\n",
      "      BMI_bin  HealthyLifestyleScore  HealthRiskScore  BMI_scaled  Age_scaled  \\\n",
      "0       Obese                      2                2    0.551952    1.674580   \n",
      "1      Normal                      1                2   -0.812651    1.674580   \n",
      "2      Normal                      0                2   -1.494952   -0.085391   \n",
      "3       Obese                      0                2    1.063678    0.857451   \n",
      "4  Overweight                      2                2    0.040226    0.228889   \n",
      "\n",
      "   PhysHlth_scaled  MentHlth_scaled  \n",
      "0        -0.538260        -0.459953  \n",
      "1        -0.538260        -0.459953  \n",
      "2        -0.538260        -0.091533  \n",
      "3        -0.538260        -0.459953  \n",
      "4        -0.329781        -0.459953  \n",
      "\n",
      "[5 rows x 32 columns]\n"
     ]
    }
   ],
   "source": [
    "print(\"Data with New Features:\\n\", clean_data.head())"
   ]
  },
  {
   "cell_type": "code",
   "execution_count": 11,
   "metadata": {},
   "outputs": [
    {
     "name": "stdout",
     "output_type": "stream",
     "text": [
      "Dataset with new features saved as 'clean_data_with_features.csv'\n"
     ]
    }
   ],
   "source": [
    "clean_data.to_csv('../data/clean_data_with_features.csv', index=False)\n",
    "print(\"Dataset with new features saved as 'clean_data_with_features.csv'\")"
   ]
  }
 ],
 "metadata": {
  "kernelspec": {
   "display_name": "Python 3",
   "language": "python",
   "name": "python3"
  },
  "language_info": {
   "codemirror_mode": {
    "name": "ipython",
    "version": 3
   },
   "file_extension": ".py",
   "mimetype": "text/x-python",
   "name": "python",
   "nbconvert_exporter": "python",
   "pygments_lexer": "ipython3",
   "version": "3.12.7"
  }
 },
 "nbformat": 4,
 "nbformat_minor": 2
}
