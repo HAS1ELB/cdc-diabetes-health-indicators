{
  "cells": [
    {
      "cell_type": "code",
      "execution_count": 1,
      "id": "a1c91395",
      "metadata": {
        "id": "a1c91395"
      },
      "outputs": [],
      "source": [
        "\n",
        "# Importation des bibliothèques nécessaires\n",
        "import pandas as pd\n",
        "import numpy as np\n",
        "from sklearn.preprocessing import StandardScaler\n",
        "from sklearn.model_selection import train_test_split, GridSearchCV, cross_val_score\n",
        "from sklearn.linear_model import LogisticRegression\n",
        "from sklearn.tree import DecisionTreeClassifier\n",
        "from sklearn.ensemble import RandomForestClassifier, GradientBoostingClassifier\n",
        "from sklearn.svm import SVC\n",
        "from sklearn.neighbors import KNeighborsClassifier\n",
        "from sklearn.naive_bayes import GaussianNB\n",
        "from xgboost import XGBClassifier\n",
        "from sklearn.metrics import accuracy_score, precision_score, recall_score, roc_auc_score, confusion_matrix, classification_report\n",
        "import matplotlib.pyplot as plt\n",
        "import seaborn as sns\n",
        "import joblib\n",
        "# remove warning\n",
        "import warnings\n",
        "warnings.filterwarnings(\"ignore\")\n",
        "\n",
        "# Charger et inspecter le jeu de données\n",
        "data = pd.read_csv('../data/balanced_clean_data.csv')\n",
        "\n",
        "# Diviser les données en caractéristiques (X) et cible (y)\n",
        "X = data.iloc[:, :-1]\n",
        "y = data.iloc[:, -1]\n",
        "\n",
        "# Diviser les données en ensembles d'entraînement et de test\n",
        "X_train, X_test, y_train, y_test = train_test_split(X, y, test_size=0.2, random_state=42)\n",
        "\n",
        "# Standardiser les données\n",
        "scaler = StandardScaler()\n",
        "X_train = scaler.fit_transform(X_train)\n",
        "X_test = scaler.transform(X_test)\n",
        "\n",
        "# Fonction d'optimisation et d'évaluation des modèles\n",
        "def evaluate_model(model, param_grid):\n",
        "    grid_search = GridSearchCV(model, param_grid, cv=5, scoring='accuracy', n_jobs=-1, verbose=1)\n",
        "    grid_search.fit(X_train, y_train)\n",
        "    best_model = grid_search.best_estimator_\n",
        "    best_score = grid_search.best_score_\n",
        "    return best_model, best_score"
      ]
    },
    {
      "cell_type": "code",
      "execution_count": null,
      "id": "LCT2h5HEcupD",
      "metadata": {
        "colab": {
          "base_uri": "https://localhost:8080/"
        },
        "id": "LCT2h5HEcupD",
        "outputId": "9a68fe24-73b2-4c4d-c69d-b4552728603f"
      },
      "outputs": [
        {
          "name": "stdout",
          "output_type": "stream",
          "text": [
            "Fitting 5 folds for each of 48 candidates, totalling 240 fits\n"
          ]
        }
      ],
      "source": [
        "# Logistic Regression\n",
        "lr_params = {\n",
        "    'C': [0.001, 0.01, 0.1, 1, 10, 100],\n",
        "    'penalty': ['l1', 'l2', 'elasticnet', 'none'],\n",
        "    'solver': ['liblinear', 'saga']\n",
        "}\n",
        "\n",
        "best_lr, best_lr_score = evaluate_model(LogisticRegression(max_iter=1000), lr_params)\n"
      ]
    },
    {
      "cell_type": "code",
      "execution_count": null,
      "id": "KuMhqY35GS8N",
      "metadata": {
        "colab": {
          "base_uri": "https://localhost:8080/"
        },
        "id": "KuMhqY35GS8N",
        "outputId": "99005eb7-aae7-415f-9173-8c4b03784283"
      },
      "outputs": [
        {
          "data": {
            "text/plain": [
              "0.7332287866907579"
            ]
          },
          "execution_count": 3,
          "metadata": {},
          "output_type": "execute_result"
        }
      ],
      "source": [
        "best_lr_score"
      ]
    },
    {
      "cell_type": "code",
      "execution_count": null,
      "id": "eDDk8qtU3WgC",
      "metadata": {
        "colab": {
          "base_uri": "https://localhost:8080/"
        },
        "id": "eDDk8qtU3WgC",
        "outputId": "91680df9-4a53-4fe6-a8e9-fd91b95fb341"
      },
      "outputs": [
        {
          "data": {
            "text/plain": [
              "['/content/lr_model.pkl']"
            ]
          },
          "execution_count": 4,
          "metadata": {},
          "output_type": "execute_result"
        }
      ],
      "source": [
        "# Sauvegarder le meilleur modèle\n",
        "best_lrmodel_path = '../models/lr_model.pkl'\n",
        "joblib.dump(best_lr, best_lrmodel_path)"
      ]
    },
    {
      "cell_type": "code",
      "execution_count": null,
      "id": "FpsOwItwcw4K",
      "metadata": {
        "colab": {
          "base_uri": "https://localhost:8080/"
        },
        "id": "FpsOwItwcw4K",
        "outputId": "4b0751b2-1c44-41b8-f279-db2b1fd4f803"
      },
      "outputs": [
        {
          "name": "stdout",
          "output_type": "stream",
          "text": [
            "Fitting 5 folds for each of 1080 candidates, totalling 5400 fits\n"
          ]
        }
      ],
      "source": [
        "# Decision Tree Classifier\n",
        "dt_params = {\n",
        "    'max_depth': [3, 5, 10, 15, None],\n",
        "    'criterion': ['gini', 'entropy', 'log_loss'],\n",
        "    'splitter': ['best', 'random'],\n",
        "    'min_samples_split': [2, 5, 10],\n",
        "    'min_samples_leaf': [1, 2, 5, 10],\n",
        "    'max_features': [None, 'sqrt', 'log2']\n",
        "}\n",
        "best_dt, best_dt_score = evaluate_model(DecisionTreeClassifier(), dt_params)"
      ]
    },
    {
      "cell_type": "code",
      "execution_count": null,
      "id": "YKqD5rY_GV0P",
      "metadata": {
        "colab": {
          "base_uri": "https://localhost:8080/"
        },
        "id": "YKqD5rY_GV0P",
        "outputId": "099c83b3-1f6d-40de-b4f7-f3430bebb164"
      },
      "outputs": [
        {
          "data": {
            "text/plain": [
              "0.8022432073091741"
            ]
          },
          "execution_count": 5,
          "metadata": {},
          "output_type": "execute_result"
        }
      ],
      "source": [
        "best_dt_score"
      ]
    },
    {
      "cell_type": "code",
      "execution_count": null,
      "id": "YGu7DYov1Wxh",
      "metadata": {
        "colab": {
          "base_uri": "https://localhost:8080/"
        },
        "id": "YGu7DYov1Wxh",
        "outputId": "712bf41a-48c0-4139-9ff0-f440eb2e71ed"
      },
      "outputs": [
        {
          "data": {
            "text/plain": [
              "['/content/dt_model.pkl']"
            ]
          },
          "execution_count": 6,
          "metadata": {},
          "output_type": "execute_result"
        }
      ],
      "source": [
        "# Sauvegarder le meilleur modèle\n",
        "best_dtmodel_path = '../models/dt_model.pkl'\n",
        "joblib.dump(best_dt, best_dtmodel_path)"
      ]
    },
    {
      "cell_type": "code",
      "execution_count": null,
      "id": "kfhNbs4Scz9J",
      "metadata": {
        "colab": {
          "base_uri": "https://localhost:8080/"
        },
        "id": "kfhNbs4Scz9J",
        "outputId": "45f4406b-3609-47bc-cfb6-313c1f7e2125"
      },
      "outputs": [
        {
          "name": "stdout",
          "output_type": "stream",
          "text": [
            "Fitting 5 folds for each of 648 candidates, totalling 3240 fits\n"
          ]
        }
      ],
      "source": [
        "# Random Forest Classifier\n",
        "rf_params = {\n",
        "    'n_estimators': [100, 200, 300],\n",
        "    'max_depth': [None, 10, 20, 30],\n",
        "    'max_features': ['sqrt', 'log2', None],\n",
        "    'min_samples_split': [2, 5, 10],\n",
        "    'min_samples_leaf': [1, 2, 4],\n",
        "    'bootstrap': [True, False]\n",
        "}\n",
        "best_rf, best_rf_score = evaluate_model(RandomForestClassifier(), rf_params)"
      ]
    },
    {
      "cell_type": "code",
      "execution_count": null,
      "id": "8PtLwWCtdfPy",
      "metadata": {
        "id": "8PtLwWCtdfPy"
      },
      "outputs": [],
      "source": [
        "best_rf_score"
      ]
    },
    {
      "cell_type": "code",
      "execution_count": null,
      "id": "bRU-OpBzc2Do",
      "metadata": {
        "colab": {
          "base_uri": "https://localhost:8080/"
        },
        "id": "bRU-OpBzc2Do",
        "outputId": "6b9bf649-343b-44f2-8aad-7648a00199ef"
      },
      "outputs": [
        {
          "name": "stdout",
          "output_type": "stream",
          "text": [
            "Fitting 5 folds for each of 62208 candidates, totalling 311040 fits\n"
          ]
        }
      ],
      "source": [
        "# XGBoost Classifier\n",
        "xgb_params = {\n",
        "    'n_estimators': [100, 200, 300, 500],\n",
        "    'learning_rate': [0.001, 0.01, 0.1, 0.2],\n",
        "    'max_depth': [3, 5, 10, 15],\n",
        "    'min_child_weight': [1, 3, 5],\n",
        "    'gamma': [0, 0.1, 0.5, 1],\n",
        "    'subsample': [0.5, 0.7, 1.0],\n",
        "    'colsample_bytree': [0.5, 0.7, 1.0],\n",
        "    'reg_alpha': [0, 0.1, 1],\n",
        "    'reg_lambda': [1, 10, 100]\n",
        "}\n",
        "best_xgb, best_xgb_score = evaluate_model(XGBClassifier(use_label_encoder=False, eval_metric='logloss'), xgb_params)"
      ]
    },
    {
      "cell_type": "code",
      "execution_count": null,
      "id": "Ca9OHeB_cnbK",
      "metadata": {
        "id": "Ca9OHeB_cnbK"
      },
      "outputs": [],
      "source": [
        "# Évaluation des modèles avec Cross Validation\n",
        "models = {\n",
        "    \"Logistic Regression\": best_lr,\n",
        "    \"Decision Tree\": best_dt,\n",
        "    \"Random Forest\": best_rf,\n",
        "    \"XGBoost\": best_xgb\n",
        "}\n",
        "\n",
        "for model_name, model in models.items():\n",
        "    cv_scores = cross_val_score(model, X_train, y_train, cv=5, scoring='accuracy')\n",
        "    print(f\"{model_name} - Cross Validation Accuracy: {np.mean(cv_scores):.4f} ± {np.std(cv_scores):.4f}\")"
      ]
    },
    {
      "cell_type": "code",
      "execution_count": null,
      "id": "-HeRe6-xciWG",
      "metadata": {
        "id": "-HeRe6-xciWG"
      },
      "outputs": [],
      "source": [
        "from sklearn.metrics import accuracy_score, precision_score, recall_score, roc_auc_score, classification_report\n",
        "import numpy as np\n",
        "from sklearn.preprocessing import label_binarize\n",
        "\n",
        "def print_metrics(model, X_test, y_test, model_name):\n",
        "    # Vérification et conversion de y_test\n",
        "    if len(y_test.shape) > 1 and y_test.shape[1] > 1:\n",
        "        y_test_onehot = y_test\n",
        "        y_test = np.argmax(y_test, axis=1)  # Convertir en étiquettes simples\n",
        "    else:\n",
        "        y_test_onehot = label_binarize(y_test, classes=np.unique(y_test))  # Encodage one-hot pour AUC si nécessaire\n",
        "\n",
        "    # Prédictions\n",
        "    y_pred = model.predict(X_test)\n",
        "\n",
        "    # Calcul des métriques\n",
        "    acc = accuracy_score(y_test, y_pred)\n",
        "    prec = precision_score(y_test, y_pred, average='weighted')\n",
        "    rec = recall_score(y_test, y_pred, average='weighted')\n",
        "\n",
        "    # Gestion de roc_auc_score (uniquement si le modèle a predict_proba)\n",
        "    auc = None\n",
        "    if hasattr(model, \"predict_proba\"):\n",
        "        y_proba = model.predict_proba(X_test)\n",
        "        try:\n",
        "            auc = roc_auc_score(y_test_onehot, y_proba, multi_class='ovr')\n",
        "        except ValueError as e:\n",
        "            print(f\"Warning: Unable to compute AUC for {model_name}. Reason: {e}\")\n",
        "\n",
        "    # Affichage des résultats\n",
        "    print(f\"{model_name} Test Accuracy: {acc:.4f}\")\n",
        "    print(f\"{model_name} Precision: {prec:.4f}\")\n",
        "    print(f\"{model_name} Recall: {rec:.4f}\")\n",
        "    if auc is not None:\n",
        "        print(f\"{model_name} AUC: {auc:.4f}\")\n",
        "    print(classification_report(y_test, y_pred))\n",
        "\n",
        "# Appeler la fonction pour chaque modèle\n",
        "for model_name, model in models.items():\n",
        "    print_metrics(model, X_test, y_test, model_name)\n"
      ]
    },
    {
      "cell_type": "code",
      "execution_count": null,
      "id": "0BMRQn7lccjp",
      "metadata": {
        "id": "0BMRQn7lccjp"
      },
      "outputs": [],
      "source": [
        "# Visualisation de la matrice de confusion pour le meilleur modèle\n",
        "best_model = max(models.items(), key=lambda item: cross_val_score(item[1], X_train, y_train, cv=5).mean())[1]\n",
        "y_pred_best = best_model.predict(X_test)\n",
        "conf_matrix = confusion_matrix(y_test, y_pred_best)\n",
        "plt.figure(figsize=(8, 6))\n",
        "sns.heatmap(conf_matrix, annot=True, fmt=\"d\", cmap=\"Blues\")\n",
        "plt.title(f\"Matrice de confusion pour {type(best_model).__name__}\")\n",
        "plt.xlabel(\"Valeurs prédites\")\n",
        "plt.ylabel(\"Valeurs réelles\")\n",
        "plt.show()"
      ]
    },
    {
      "cell_type": "code",
      "execution_count": null,
      "id": "mySu_9VAoJx-",
      "metadata": {
        "colab": {
          "base_uri": "https://localhost:8080/"
        },
        "id": "mySu_9VAoJx-",
        "outputId": "380bab7b-4209-44c9-cd2e-9960ac696382"
      },
      "outputs": [
        {
          "data": {
            "text/plain": [
              "['/content/best_model.pkl']"
            ]
          },
          "execution_count": 21,
          "metadata": {},
          "output_type": "execute_result"
        }
      ],
      "source": [
        "# Sauvegarder le meilleur modèle\n",
        "best_model_path = '../models/best_model.pkl'\n",
        "joblib.dump(best_model, best_model_path)"
      ]
    },
    {
      "cell_type": "markdown",
      "id": "ME0wquUXooE7",
      "metadata": {
        "id": "ME0wquUXooE7"
      },
      "source": [
        "tensorflow"
      ]
    },
    {
      "cell_type": "code",
      "execution_count": null,
      "id": "W_0ePW44of6d",
      "metadata": {
        "id": "W_0ePW44of6d"
      },
      "outputs": [],
      "source": [
        "import tensorflow as tf\n",
        "from tensorflow.keras.models import Sequential\n",
        "from tensorflow.keras.layers import Dense, Dropout\n",
        "# Define a simple deep learning model\n",
        "model = tf.keras.Sequential([\n",
        "    tf.keras.layers.InputLayer(input_shape=(X_train.shape[1],)),\n",
        "    tf.keras.layers.Dense(64, activation='relu', kernel_regularizer=tf.keras.regularizers.l2(0.001)),\n",
        "    tf.keras.layers.Dropout(0.3),\n",
        "    tf.keras.layers.Dense(32, activation='relu', kernel_regularizer=tf.keras.regularizers.l2(0.001)),\n",
        "    tf.keras.layers.Dropout(0.3),\n",
        "    tf.keras.layers.Dense(16, activation='relu'),\n",
        "    tf.keras.layers.Dense(1, activation='sigmoid')\n",
        "])"
      ]
    },
    {
      "cell_type": "code",
      "execution_count": null,
      "id": "DYpHMTaio1WC",
      "metadata": {
        "id": "DYpHMTaio1WC"
      },
      "outputs": [],
      "source": [
        "# Compile the model\n",
        "model.compile(optimizer=tf.keras.optimizers.Adam(learning_rate=0.0001),\n",
        "              loss='binary_crossentropy',\n",
        "              metrics=['accuracy'])"
      ]
    },
    {
      "cell_type": "code",
      "execution_count": null,
      "id": "ywAly-Reo6h1",
      "metadata": {
        "colab": {
          "base_uri": "https://localhost:8080/"
        },
        "id": "ywAly-Reo6h1",
        "outputId": "733a6821-bd49-4075-d20a-6ff6cfb67167"
      },
      "outputs": [
        {
          "name": "stdout",
          "output_type": "stream",
          "text": [
            "Epoch 1/50\n",
            "\u001b[1m1834/1834\u001b[0m \u001b[32m━━━━━━━━━━━━━━━━━━━━\u001b[0m\u001b[37m\u001b[0m \u001b[1m14s\u001b[0m 4ms/step - accuracy: 0.6222 - loss: 0.7122 - val_accuracy: 0.7321 - val_loss: 0.5916\n",
            "Epoch 2/50\n",
            "\u001b[1m1834/1834\u001b[0m \u001b[32m━━━━━━━━━━━━━━━━━━━━\u001b[0m\u001b[37m\u001b[0m \u001b[1m6s\u001b[0m 3ms/step - accuracy: 0.7147 - loss: 0.6141 - val_accuracy: 0.7382 - val_loss: 0.5721\n",
            "Epoch 3/50\n",
            "\u001b[1m1834/1834\u001b[0m \u001b[32m━━━━━━━━━━━━━━━━━━━━\u001b[0m\u001b[37m\u001b[0m \u001b[1m6s\u001b[0m 3ms/step - accuracy: 0.7280 - loss: 0.5896 - val_accuracy: 0.7414 - val_loss: 0.5613\n",
            "Epoch 4/50\n",
            "\u001b[1m1834/1834\u001b[0m \u001b[32m━━━━━━━━━━━━━━━━━━━━\u001b[0m\u001b[37m\u001b[0m \u001b[1m11s\u001b[0m 3ms/step - accuracy: 0.7285 - loss: 0.5782 - val_accuracy: 0.7432 - val_loss: 0.5519\n",
            "Epoch 5/50\n",
            "\u001b[1m1834/1834\u001b[0m \u001b[32m━━━━━━━━━━━━━━━━━━━━\u001b[0m\u001b[37m\u001b[0m \u001b[1m7s\u001b[0m 2ms/step - accuracy: 0.7328 - loss: 0.5647 - val_accuracy: 0.7439 - val_loss: 0.5448\n",
            "Epoch 6/50\n",
            "\u001b[1m1834/1834\u001b[0m \u001b[32m━━━━━━━━━━━━━━━━━━━━\u001b[0m\u001b[37m\u001b[0m \u001b[1m6s\u001b[0m 2ms/step - accuracy: 0.7373 - loss: 0.5571 - val_accuracy: 0.7438 - val_loss: 0.5395\n",
            "Epoch 7/50\n",
            "\u001b[1m1834/1834\u001b[0m \u001b[32m━━━━━━━━━━━━━━━━━━━━\u001b[0m\u001b[37m\u001b[0m \u001b[1m4s\u001b[0m 2ms/step - accuracy: 0.7367 - loss: 0.5529 - val_accuracy: 0.7449 - val_loss: 0.5339\n",
            "Epoch 8/50\n",
            "\u001b[1m1834/1834\u001b[0m \u001b[32m━━━━━━━━━━━━━━━━━━━━\u001b[0m\u001b[37m\u001b[0m \u001b[1m4s\u001b[0m 2ms/step - accuracy: 0.7365 - loss: 0.5462 - val_accuracy: 0.7463 - val_loss: 0.5296\n",
            "Epoch 9/50\n",
            "\u001b[1m1834/1834\u001b[0m \u001b[32m━━━━━━━━━━━━━━━━━━━━\u001b[0m\u001b[37m\u001b[0m \u001b[1m5s\u001b[0m 2ms/step - accuracy: 0.7376 - loss: 0.5431 - val_accuracy: 0.7465 - val_loss: 0.5267\n",
            "Epoch 10/50\n",
            "\u001b[1m1834/1834\u001b[0m \u001b[32m━━━━━━━━━━━━━━━━━━━━\u001b[0m\u001b[37m\u001b[0m \u001b[1m5s\u001b[0m 2ms/step - accuracy: 0.7409 - loss: 0.5363 - val_accuracy: 0.7475 - val_loss: 0.5237\n",
            "Epoch 11/50\n",
            "\u001b[1m1834/1834\u001b[0m \u001b[32m━━━━━━━━━━━━━━━━━━━━\u001b[0m\u001b[37m\u001b[0m \u001b[1m6s\u001b[0m 3ms/step - accuracy: 0.7411 - loss: 0.5330 - val_accuracy: 0.7472 - val_loss: 0.5213\n",
            "Epoch 12/50\n",
            "\u001b[1m1834/1834\u001b[0m \u001b[32m━━━━━━━━━━━━━━━━━━━━\u001b[0m\u001b[37m\u001b[0m \u001b[1m4s\u001b[0m 2ms/step - accuracy: 0.7390 - loss: 0.5330 - val_accuracy: 0.7476 - val_loss: 0.5185\n",
            "Epoch 13/50\n",
            "\u001b[1m1834/1834\u001b[0m \u001b[32m━━━━━━━━━━━━━━━━━━━━\u001b[0m\u001b[37m\u001b[0m \u001b[1m5s\u001b[0m 2ms/step - accuracy: 0.7414 - loss: 0.5269 - val_accuracy: 0.7484 - val_loss: 0.5169\n",
            "Epoch 14/50\n",
            "\u001b[1m1834/1834\u001b[0m \u001b[32m━━━━━━━━━━━━━━━━━━━━\u001b[0m\u001b[37m\u001b[0m \u001b[1m5s\u001b[0m 2ms/step - accuracy: 0.7416 - loss: 0.5283 - val_accuracy: 0.7484 - val_loss: 0.5155\n",
            "Epoch 15/50\n",
            "\u001b[1m1834/1834\u001b[0m \u001b[32m━━━━━━━━━━━━━━━━━━━━\u001b[0m\u001b[37m\u001b[0m \u001b[1m4s\u001b[0m 2ms/step - accuracy: 0.7422 - loss: 0.5253 - val_accuracy: 0.7484 - val_loss: 0.5144\n",
            "Epoch 16/50\n",
            "\u001b[1m1834/1834\u001b[0m \u001b[32m━━━━━━━━━━━━━━━━━━━━\u001b[0m\u001b[37m\u001b[0m \u001b[1m6s\u001b[0m 3ms/step - accuracy: 0.7413 - loss: 0.5248 - val_accuracy: 0.7484 - val_loss: 0.5129\n",
            "Epoch 17/50\n",
            "\u001b[1m1834/1834\u001b[0m \u001b[32m━━━━━━━━━━━━━━━━━━━━\u001b[0m\u001b[37m\u001b[0m \u001b[1m4s\u001b[0m 2ms/step - accuracy: 0.7430 - loss: 0.5219 - val_accuracy: 0.7486 - val_loss: 0.5127\n",
            "Epoch 18/50\n",
            "\u001b[1m1834/1834\u001b[0m \u001b[32m━━━━━━━━━━━━━━━━━━━━\u001b[0m\u001b[37m\u001b[0m \u001b[1m4s\u001b[0m 2ms/step - accuracy: 0.7434 - loss: 0.5228 - val_accuracy: 0.7486 - val_loss: 0.5117\n",
            "Epoch 19/50\n",
            "\u001b[1m1834/1834\u001b[0m \u001b[32m━━━━━━━━━━━━━━━━━━━━\u001b[0m\u001b[37m\u001b[0m \u001b[1m4s\u001b[0m 2ms/step - accuracy: 0.7421 - loss: 0.5222 - val_accuracy: 0.7499 - val_loss: 0.5105\n",
            "Epoch 20/50\n",
            "\u001b[1m1834/1834\u001b[0m \u001b[32m━━━━━━━━━━━━━━━━━━━━\u001b[0m\u001b[37m\u001b[0m \u001b[1m4s\u001b[0m 2ms/step - accuracy: 0.7416 - loss: 0.5223 - val_accuracy: 0.7489 - val_loss: 0.5092\n",
            "Epoch 21/50\n",
            "\u001b[1m1834/1834\u001b[0m \u001b[32m━━━━━━━━━━━━━━━━━━━━\u001b[0m\u001b[37m\u001b[0m \u001b[1m5s\u001b[0m 2ms/step - accuracy: 0.7443 - loss: 0.5192 - val_accuracy: 0.7493 - val_loss: 0.5088\n",
            "Epoch 22/50\n",
            "\u001b[1m1834/1834\u001b[0m \u001b[32m━━━━━━━━━━━━━━━━━━━━\u001b[0m\u001b[37m\u001b[0m \u001b[1m6s\u001b[0m 2ms/step - accuracy: 0.7440 - loss: 0.5198 - val_accuracy: 0.7491 - val_loss: 0.5080\n",
            "Epoch 23/50\n",
            "\u001b[1m1834/1834\u001b[0m \u001b[32m━━━━━━━━━━━━━━━━━━━━\u001b[0m\u001b[37m\u001b[0m \u001b[1m4s\u001b[0m 2ms/step - accuracy: 0.7452 - loss: 0.5175 - val_accuracy: 0.7503 - val_loss: 0.5073\n",
            "Epoch 24/50\n",
            "\u001b[1m1834/1834\u001b[0m \u001b[32m━━━━━━━━━━━━━━━━━━━━\u001b[0m\u001b[37m\u001b[0m \u001b[1m4s\u001b[0m 2ms/step - accuracy: 0.7454 - loss: 0.5172 - val_accuracy: 0.7492 - val_loss: 0.5070\n",
            "Epoch 25/50\n",
            "\u001b[1m1834/1834\u001b[0m \u001b[32m━━━━━━━━━━━━━━━━━━━━\u001b[0m\u001b[37m\u001b[0m \u001b[1m5s\u001b[0m 2ms/step - accuracy: 0.7460 - loss: 0.5156 - val_accuracy: 0.7501 - val_loss: 0.5066\n",
            "Epoch 26/50\n",
            "\u001b[1m1834/1834\u001b[0m \u001b[32m━━━━━━━━━━━━━━━━━━━━\u001b[0m\u001b[37m\u001b[0m \u001b[1m4s\u001b[0m 2ms/step - accuracy: 0.7457 - loss: 0.5159 - val_accuracy: 0.7507 - val_loss: 0.5063\n",
            "Epoch 27/50\n",
            "\u001b[1m1834/1834\u001b[0m \u001b[32m━━━━━━━━━━━━━━━━━━━━\u001b[0m\u001b[37m\u001b[0m \u001b[1m6s\u001b[0m 3ms/step - accuracy: 0.7463 - loss: 0.5161 - val_accuracy: 0.7502 - val_loss: 0.5057\n",
            "Epoch 28/50\n",
            "\u001b[1m1834/1834\u001b[0m \u001b[32m━━━━━━━━━━━━━━━━━━━━\u001b[0m\u001b[37m\u001b[0m \u001b[1m4s\u001b[0m 2ms/step - accuracy: 0.7442 - loss: 0.5168 - val_accuracy: 0.7499 - val_loss: 0.5054\n",
            "Epoch 29/50\n",
            "\u001b[1m1834/1834\u001b[0m \u001b[32m━━━━━━━━━━━━━━━━━━━━\u001b[0m\u001b[37m\u001b[0m \u001b[1m4s\u001b[0m 2ms/step - accuracy: 0.7438 - loss: 0.5164 - val_accuracy: 0.7500 - val_loss: 0.5049\n",
            "Epoch 30/50\n",
            "\u001b[1m1834/1834\u001b[0m \u001b[32m━━━━━━━━━━━━━━━━━━━━\u001b[0m\u001b[37m\u001b[0m \u001b[1m5s\u001b[0m 3ms/step - accuracy: 0.7468 - loss: 0.5146 - val_accuracy: 0.7503 - val_loss: 0.5045\n",
            "Epoch 31/50\n",
            "\u001b[1m1834/1834\u001b[0m \u001b[32m━━━━━━━━━━━━━━━━━━━━\u001b[0m\u001b[37m\u001b[0m \u001b[1m4s\u001b[0m 2ms/step - accuracy: 0.7438 - loss: 0.5145 - val_accuracy: 0.7504 - val_loss: 0.5043\n",
            "Epoch 32/50\n",
            "\u001b[1m1834/1834\u001b[0m \u001b[32m━━━━━━━━━━━━━━━━━━━━\u001b[0m\u001b[37m\u001b[0m \u001b[1m4s\u001b[0m 2ms/step - accuracy: 0.7425 - loss: 0.5149 - val_accuracy: 0.7512 - val_loss: 0.5044\n",
            "Epoch 33/50\n",
            "\u001b[1m1834/1834\u001b[0m \u001b[32m━━━━━━━━━━━━━━━━━━━━\u001b[0m\u001b[37m\u001b[0m \u001b[1m5s\u001b[0m 3ms/step - accuracy: 0.7443 - loss: 0.5144 - val_accuracy: 0.7508 - val_loss: 0.5039\n",
            "Epoch 34/50\n",
            "\u001b[1m1834/1834\u001b[0m \u001b[32m━━━━━━━━━━━━━━━━━━━━\u001b[0m\u001b[37m\u001b[0m \u001b[1m4s\u001b[0m 2ms/step - accuracy: 0.7455 - loss: 0.5139 - val_accuracy: 0.7505 - val_loss: 0.5036\n",
            "Epoch 35/50\n",
            "\u001b[1m1834/1834\u001b[0m \u001b[32m━━━━━━━━━━━━━━━━━━━━\u001b[0m\u001b[37m\u001b[0m \u001b[1m5s\u001b[0m 2ms/step - accuracy: 0.7463 - loss: 0.5127 - val_accuracy: 0.7516 - val_loss: 0.5033\n",
            "Epoch 36/50\n",
            "\u001b[1m1834/1834\u001b[0m \u001b[32m━━━━━━━━━━━━━━━━━━━━\u001b[0m\u001b[37m\u001b[0m \u001b[1m6s\u001b[0m 2ms/step - accuracy: 0.7443 - loss: 0.5146 - val_accuracy: 0.7506 - val_loss: 0.5030\n",
            "Epoch 37/50\n",
            "\u001b[1m1834/1834\u001b[0m \u001b[32m━━━━━━━━━━━━━━━━━━━━\u001b[0m\u001b[37m\u001b[0m \u001b[1m4s\u001b[0m 2ms/step - accuracy: 0.7456 - loss: 0.5138 - val_accuracy: 0.7508 - val_loss: 0.5027\n",
            "Epoch 38/50\n",
            "\u001b[1m1834/1834\u001b[0m \u001b[32m━━━━━━━━━━━━━━━━━━━━\u001b[0m\u001b[37m\u001b[0m \u001b[1m6s\u001b[0m 3ms/step - accuracy: 0.7451 - loss: 0.5142 - val_accuracy: 0.7514 - val_loss: 0.5029\n",
            "Epoch 39/50\n",
            "\u001b[1m1834/1834\u001b[0m \u001b[32m━━━━━━━━━━━━━━━━━━━━\u001b[0m\u001b[37m\u001b[0m \u001b[1m4s\u001b[0m 2ms/step - accuracy: 0.7444 - loss: 0.5119 - val_accuracy: 0.7515 - val_loss: 0.5019\n",
            "Epoch 40/50\n",
            "\u001b[1m1834/1834\u001b[0m \u001b[32m━━━━━━━━━━━━━━━━━━━━\u001b[0m\u001b[37m\u001b[0m \u001b[1m4s\u001b[0m 2ms/step - accuracy: 0.7461 - loss: 0.5116 - val_accuracy: 0.7521 - val_loss: 0.5022\n",
            "Epoch 41/50\n",
            "\u001b[1m1834/1834\u001b[0m \u001b[32m━━━━━━━━━━━━━━━━━━━━\u001b[0m\u001b[37m\u001b[0m \u001b[1m6s\u001b[0m 3ms/step - accuracy: 0.7467 - loss: 0.5100 - val_accuracy: 0.7502 - val_loss: 0.5023\n",
            "Epoch 42/50\n",
            "\u001b[1m1834/1834\u001b[0m \u001b[32m━━━━━━━━━━━━━━━━━━━━\u001b[0m\u001b[37m\u001b[0m \u001b[1m4s\u001b[0m 2ms/step - accuracy: 0.7475 - loss: 0.5111 - val_accuracy: 0.7518 - val_loss: 0.5016\n",
            "Epoch 43/50\n",
            "\u001b[1m1834/1834\u001b[0m \u001b[32m━━━━━━━━━━━━━━━━━━━━\u001b[0m\u001b[37m\u001b[0m \u001b[1m4s\u001b[0m 2ms/step - accuracy: 0.7474 - loss: 0.5104 - val_accuracy: 0.7517 - val_loss: 0.5017\n",
            "Epoch 44/50\n",
            "\u001b[1m1834/1834\u001b[0m \u001b[32m━━━━━━━━━━━━━━━━━━━━\u001b[0m\u001b[37m\u001b[0m \u001b[1m6s\u001b[0m 3ms/step - accuracy: 0.7476 - loss: 0.5105 - val_accuracy: 0.7522 - val_loss: 0.5013\n",
            "Epoch 45/50\n",
            "\u001b[1m1834/1834\u001b[0m \u001b[32m━━━━━━━━━━━━━━━━━━━━\u001b[0m\u001b[37m\u001b[0m \u001b[1m4s\u001b[0m 2ms/step - accuracy: 0.7458 - loss: 0.5117 - val_accuracy: 0.7514 - val_loss: 0.5011\n",
            "Epoch 46/50\n",
            "\u001b[1m1834/1834\u001b[0m \u001b[32m━━━━━━━━━━━━━━━━━━━━\u001b[0m\u001b[37m\u001b[0m \u001b[1m5s\u001b[0m 2ms/step - accuracy: 0.7453 - loss: 0.5129 - val_accuracy: 0.7508 - val_loss: 0.5012\n",
            "Epoch 47/50\n",
            "\u001b[1m1834/1834\u001b[0m \u001b[32m━━━━━━━━━━━━━━━━━━━━\u001b[0m\u001b[37m\u001b[0m \u001b[1m5s\u001b[0m 3ms/step - accuracy: 0.7461 - loss: 0.5103 - val_accuracy: 0.7510 - val_loss: 0.5016\n",
            "Epoch 48/50\n",
            "\u001b[1m1834/1834\u001b[0m \u001b[32m━━━━━━━━━━━━━━━━━━━━\u001b[0m\u001b[37m\u001b[0m \u001b[1m4s\u001b[0m 2ms/step - accuracy: 0.7459 - loss: 0.5110 - val_accuracy: 0.7525 - val_loss: 0.5006\n",
            "Epoch 49/50\n",
            "\u001b[1m1834/1834\u001b[0m \u001b[32m━━━━━━━━━━━━━━━━━━━━\u001b[0m\u001b[37m\u001b[0m \u001b[1m6s\u001b[0m 2ms/step - accuracy: 0.7460 - loss: 0.5125 - val_accuracy: 0.7524 - val_loss: 0.5003\n",
            "Epoch 50/50\n",
            "\u001b[1m1834/1834\u001b[0m \u001b[32m━━━━━━━━━━━━━━━━━━━━\u001b[0m\u001b[37m\u001b[0m \u001b[1m5s\u001b[0m 2ms/step - accuracy: 0.7474 - loss: 0.5089 - val_accuracy: 0.7524 - val_loss: 0.5003\n"
          ]
        }
      ],
      "source": [
        "# Train the model\n",
        "history = model.fit(X_train, y_train, epochs=50, batch_size=64, validation_split=0.2)"
      ]
    },
    {
      "cell_type": "code",
      "execution_count": null,
      "id": "nVkc94Jwo-Q4",
      "metadata": {
        "colab": {
          "base_uri": "https://localhost:8080/"
        },
        "id": "nVkc94Jwo-Q4",
        "outputId": "1787c6fd-53d9-428d-adb1-928acf5eebcd"
      },
      "outputs": [
        {
          "name": "stdout",
          "output_type": "stream",
          "text": [
            "\u001b[1m1146/1146\u001b[0m \u001b[32m━━━━━━━━━━━━━━━━━━━━\u001b[0m\u001b[37m\u001b[0m \u001b[1m2s\u001b[0m 2ms/step - accuracy: 0.7488 - loss: 0.5074\n",
            "Test Loss: 0.5075079202651978, Test Accuracy: 0.7485477328300476\n"
          ]
        }
      ],
      "source": [
        "# Evaluate the model on the test set\n",
        "test_loss, test_accuracy = model.evaluate(X_test, y_test)\n",
        "print(f\"Test Loss: {test_loss}, Test Accuracy: {test_accuracy}\")"
      ]
    },
    {
      "cell_type": "code",
      "execution_count": null,
      "id": "xWet9UYApCeH",
      "metadata": {
        "id": "xWet9UYApCeH"
      },
      "outputs": [],
      "source": [
        "# Save the entire model\n",
        "model.save('../models/tfmodel.keras')"
      ]
    }
  ],
  "metadata": {
    "accelerator": "GPU",
    "colab": {
      "gpuType": "T4",
      "provenance": []
    },
    "kernelspec": {
      "display_name": "Python 3",
      "name": "python3"
    },
    "language_info": {
      "codemirror_mode": {
        "name": "ipython",
        "version": 3
      },
      "file_extension": ".py",
      "mimetype": "text/x-python",
      "name": "python",
      "nbconvert_exporter": "python",
      "pygments_lexer": "ipython3",
      "version": "3.12.8"
    }
  },
  "nbformat": 4,
  "nbformat_minor": 5
}
